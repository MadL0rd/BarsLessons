{
 "cells": [
  {
   "cell_type": "code",
   "execution_count": null,
   "metadata": {},
   "outputs": [],
   "source": [
    "from calendar import calendar\n",
    "from selenium import webdriver\n",
    "import time\n",
    "from seleniumwire import webdriver\n",
    "from selenium.webdriver.chrome.options import Options\n",
    "from selenium.webdriver.support.wait import WebDriverWait\n",
    "from selenium.common.exceptions import NoSuchElementException\n",
    "from seleniumwire.utils import decode\n",
    "import json"
   ]
  },
  {
   "cell_type": "code",
   "execution_count": null,
   "metadata": {},
   "outputs": [],
   "source": [
    "data_json = 'data.json'\n",
    "\n",
    "def get_data(filename=data_json):\n",
    "  with open(filename) as json_file:\n",
    "      data = json.load(json_file)\n",
    "  return data\n",
    "\n",
    "def set_data(data, filename=data_json):\n",
    "  data = json.dumps(data, indent=2, ensure_ascii=False)\n",
    "  with open(filename, 'w') as f:\n",
    "    f.write(data)"
   ]
  },
  {
   "cell_type": "code",
   "execution_count": null,
   "metadata": {},
   "outputs": [],
   "source": [
    "def decode_body(response):\n",
    "    result = decode(response.body, response.headers.get('Content-Encoding', 'identity'))\n",
    "    # result = result.decode('unicode_escape')\n",
    "    try:\n",
    "        result_json = json.loads(result)\n",
    "        return result_json\n",
    "    except:\n",
    "        return result"
   ]
  },
  {
   "cell_type": "code",
   "execution_count": null,
   "metadata": {},
   "outputs": [],
   "source": [
    "url = 'https://sh-open.ris61edu.ru/desk'\n",
    "\n",
    "path2chrome = './chromedriver'\n",
    "\n",
    "chrome_options = Options()\n",
    "# chrome_options.add_argument(\"--headless\")\n",
    "# chrome_options.add_argument(\"--window-size=1920,1080\")\n",
    "\n",
    "driver = webdriver.Chrome(options=chrome_options, executable_path = path2chrome)"
   ]
  },
  {
   "cell_type": "code",
   "execution_count": null,
   "metadata": {},
   "outputs": [],
   "source": [
    "try:\n",
    "    driver.get(url=url)\n",
    "except Exception as ex:\n",
    "    print(f'Selenium exeption:\\n{ex}\\n')"
   ]
  },
  {
   "cell_type": "markdown",
   "metadata": {},
   "source": [
    "## Reload page and get data"
   ]
  },
  {
   "cell_type": "code",
   "execution_count": null,
   "metadata": {},
   "outputs": [],
   "source": [
    "driver.find_element_by_class_name(\"x-tbar-loading\").click()\n",
    "time.sleep(5)"
   ]
  },
  {
   "cell_type": "markdown",
   "metadata": {},
   "source": [
    "### Rows"
   ]
  },
  {
   "cell_type": "code",
   "execution_count": null,
   "metadata": {},
   "outputs": [],
   "source": [
    "rows = '{}'\n",
    "for i in range(20):\n",
    "    request = driver.requests[-i]\n",
    "    if \"registerrowsaction\" in request.url:\n",
    "        rows = request\n",
    "print(rows)\n",
    "rows = decode_body(rows.response)['rows']\n",
    "print(len(rows))\n",
    "print(rows)"
   ]
  },
  {
   "cell_type": "code",
   "execution_count": null,
   "metadata": {},
   "outputs": [],
   "source": [
    "for row in rows:\n",
    "    row['name'] = row['full_name'].split('>')[1].split('<')[0]"
   ]
  },
  {
   "cell_type": "code",
   "execution_count": null,
   "metadata": {},
   "outputs": [],
   "source": [
    "set_data(rows, '../rows.json')"
   ]
  },
  {
   "cell_type": "markdown",
   "metadata": {},
   "source": [
    "### Columns"
   ]
  },
  {
   "cell_type": "code",
   "execution_count": null,
   "metadata": {},
   "outputs": [],
   "source": [
    "columns_request = {}\n",
    "for i in range(20):\n",
    "    request = driver.requests[-i]\n",
    "    if \"registercreategridaction\" in request.url:\n",
    "        columns_request = request\n",
    "print(columns_request)"
   ]
  },
  {
   "cell_type": "code",
   "execution_count": null,
   "metadata": {},
   "outputs": [],
   "source": [
    "columns = decode_body(columns_request.response)\n",
    "columns = str(columns).split('Ext.data.Record.create(')[1].split(')')[0]\n",
    "columns = [column[10:-1] for column in columns.split(',') if '{\"name\": \"mix' in column or '\"name\": \"pmt' in column]\n",
    "print(columns)\n",
    "len(columns)"
   ]
  },
  {
   "cell_type": "code",
   "execution_count": null,
   "metadata": {},
   "outputs": [],
   "source": [
    "columns_dates = decode_body(columns_request.response)\n",
    "columns_dates = str(columns_dates).split('LockingGridColumnWithHeaderGroup(')[1].split('})')[0]\n",
    "columns_dates = columns_dates.replace('\\\\\\\\', \"\"\"\\\\\"\"\")\n",
    "columns_dates = json.loads(columns_dates + '}')['columnModelCfg']['rows'][0]\n",
    "columns_dates\n",
    "columns_dates = [column['header'].split('value=\"')[-1].split('\"')[0] for column in columns_dates if column['header'] != '']\n",
    "columns_dates = [column.replace('&nbsp;', ' - ') for column in columns_dates]\n",
    "print(len(columns_dates))\n",
    "print(columns_dates)"
   ]
  },
  {
   "cell_type": "code",
   "execution_count": null,
   "metadata": {},
   "outputs": [],
   "source": [
    "columns_data = []\n",
    "for index, title in enumerate(columns_dates):\n",
    "    columns_data.append({'title': title, 'value': columns[index]})\n",
    "set_data(columns_data, '../columns.json')"
   ]
  },
  {
   "cell_type": "markdown",
   "metadata": {},
   "source": [
    "### Put mark request data\n",
    "needs to put mark previously"
   ]
  },
  {
   "cell_type": "code",
   "execution_count": null,
   "metadata": {},
   "outputs": [],
   "source": [
    "put_mark_request = {}\n",
    "for i in range(20):\n",
    "    request = driver.requests[-i]\n",
    "    if \"registerrowsaction\" in request.url:\n",
    "        put_mark_request = request\n",
    "print(put_mark_request)"
   ]
  },
  {
   "cell_type": "code",
   "execution_count": null,
   "metadata": {},
   "outputs": [],
   "source": [
    "put_mark_request_body = put_mark_request.body.decode('unicode_escape').split('&rows')[0]\n",
    "put_mark_request_body += '&rows=*params*&xaction=update'\n",
    "put_mark_request_body"
   ]
  },
  {
   "cell_type": "code",
   "execution_count": null,
   "metadata": {},
   "outputs": [],
   "source": [
    "cookie = put_mark_request.headers['Cookie']\n",
    "cookie"
   ]
  },
  {
   "cell_type": "code",
   "execution_count": null,
   "metadata": {},
   "outputs": [],
   "source": [
    "set_data({'cookie': cookie, 'body': put_mark_request_body}, '../put_mark.json')"
   ]
  },
  {
   "cell_type": "markdown",
   "metadata": {},
   "source": [
    "## Close selenium"
   ]
  },
  {
   "cell_type": "code",
   "execution_count": null,
   "metadata": {},
   "outputs": [],
   "source": [
    "# driver.close()\n",
    "# driver.quit()"
   ]
  }
 ],
 "metadata": {
  "interpreter": {
   "hash": "7b7c7b2245f84aa233e35c86f483dabad4d751346c1b04aaf192d0cd0bfc0ef9"
  },
  "kernelspec": {
   "display_name": "Python 3.8.3 ('base')",
   "language": "python",
   "name": "python3"
  },
  "language_info": {
   "codemirror_mode": {
    "name": "ipython",
    "version": 3
   },
   "file_extension": ".py",
   "mimetype": "text/x-python",
   "name": "python",
   "nbconvert_exporter": "python",
   "pygments_lexer": "ipython3",
   "version": "3.8.3"
  },
  "orig_nbformat": 4
 },
 "nbformat": 4,
 "nbformat_minor": 2
}
