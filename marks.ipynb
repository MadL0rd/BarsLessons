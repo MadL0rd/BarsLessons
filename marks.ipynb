{
 "cells": [
  {
   "cell_type": "code",
   "execution_count": null,
   "metadata": {},
   "outputs": [],
   "source": [
    "import json\n",
    "import requests\n",
    "import urllib3\n",
    "import time\n",
    "urllib3.disable_warnings(urllib3.exceptions.InsecureRequestWarning)"
   ]
  },
  {
   "cell_type": "code",
   "execution_count": null,
   "metadata": {},
   "outputs": [],
   "source": [
    "data_json = 'data.json'\n",
    "\n",
    "def get_data(filename=data_json):\n",
    "  with open(filename) as json_file:\n",
    "      data = json.load(json_file)\n",
    "  return data\n",
    "\n",
    "def set_data(data, filename=data_json):\n",
    "  data = json.dumps(data, indent=2, ensure_ascii=False)\n",
    "  with open(filename, 'w') as f:\n",
    "    f.write(data)"
   ]
  },
  {
   "cell_type": "code",
   "execution_count": null,
   "metadata": {},
   "outputs": [],
   "source": [
    "data = get_data('put_mark.json')\n",
    "data"
   ]
  },
  {
   "cell_type": "code",
   "execution_count": null,
   "metadata": {},
   "outputs": [],
   "source": [
    "headers = {\n",
    "    'Cookie': data['cookie'],\n",
    "    'Sec-Fetch-Dest': 'empty',\n",
    "    'Content-Type': 'application/x-www-form-urlencoded',\n",
    "}\n",
    "body = data['body']\n",
    "\n",
    "url = 'https://sh-open.ris61edu.ru/actions/web_edu.core.fgos.register.tabs.main.actions.RegisterPack/registerrowsaction'"
   ]
  },
  {
   "cell_type": "code",
   "execution_count": 190,
   "metadata": {},
   "outputs": [],
   "source": [
    "# string, int, string\n",
    "def put_mark(lesson_id, student_id, mark):\n",
    "    \n",
    "    reqest_form_paramenters = '{\"%s\":\"%s\",\"id\":%d}' % (lesson_id, mark, student_id)\n",
    "    print(reqest_form_paramenters)\n",
    "\n",
    "    response = requests.post(url, headers=headers, data=body.replace('*params*',reqest_form_paramenters).encode('utf-8') , verify=False).text\n",
    "    print(response)\n",
    "    if '\"success\": true' not in response:\n",
    "        print(\"!!! Response is empty - restart !!!\")\n",
    "        time.sleep(1)\n",
    "        put_mark(lesson_id, student_id, mark)\n",
    "    "
   ]
  },
  {
   "cell_type": "code",
   "execution_count": null,
   "metadata": {},
   "outputs": [],
   "source": [
    "# lesson_id = \"mix_138710669_143456746\"\n",
    "# student_id = 491349\n",
    "# mark = \"5\"\n",
    "\n",
    "# put_mark(\"mix_138710669_143456746\", 491349, \"\")"
   ]
  },
  {
   "cell_type": "code",
   "execution_count": null,
   "metadata": {},
   "outputs": [],
   "source": [
    "with open(\"columns.json\", \"r\") as read_file:\n",
    "    columns = json.load(read_file)\n",
    "print(columns)"
   ]
  },
  {
   "cell_type": "code",
   "execution_count": null,
   "metadata": {},
   "outputs": [],
   "source": [
    "with open(\"rows.json\", \"r\") as read_file:\n",
    "    students = json.load(read_file)\n",
    "print(len(students))"
   ]
  },
  {
   "cell_type": "code",
   "execution_count": null,
   "metadata": {},
   "outputs": [],
   "source": [
    "def get_mark(student, lesson_id):\n",
    "    if lesson_id in student:\n",
    "        return student[lesson_id].split('.')[0]\n",
    "    return \"\""
   ]
  },
  {
   "cell_type": "code",
   "execution_count": null,
   "metadata": {},
   "outputs": [],
   "source": [
    "marks_text = \"\"\"\n",
    " 4   5   4 5  4  4     444\n",
    "   23  3 23    23      333\n",
    " 23   3  2 5  23  3    333\n",
    " 23  3   ннннннн 3     333\n",
    "   3 3   3 55 2 3      333\n",
    "\n",
    " 34    4 н4   4  4     444\n",
    "   4 5 4 4 5   3 44    444\n",
    " 23   3  3    3 3      333\n",
    "  23   3 3 5   3 3     333\n",
    " 3   3   3    3   н    333\n",
    "   4 3   4 55  4       444\n",
    " 5    5  4 5  4 55     555\n",
    " 23      н    2  3     333\n",
    "   3  4  3 5   4  н    444\n",
    "    3    23   2 3      333\n",
    "\n",
    "  4    4 3 5  43  4    444\n",
    "     34  3 55  34      444\n",
    "   34    4  5 4  4     444\n",
    " 4    4  4 5   3  4    444\n",
    "\"\"\"\n"
   ]
  },
  {
   "cell_type": "code",
   "execution_count": null,
   "metadata": {},
   "outputs": [],
   "source": [
    "marks = marks_text.split('\\n')\n",
    "del marks[0]\n",
    "del marks[len(marks) - 1]"
   ]
  },
  {
   "cell_type": "code",
   "execution_count": null,
   "metadata": {},
   "outputs": [],
   "source": [
    "if len(marks) != len(students):\n",
    "    raise ValueError(f'Marks error! Students count is wrong')\n",
    "for lesson_index, student_marks in enumerate(marks):\n",
    "    if len(student_marks) > len(columns):\n",
    "        raise ValueError(f'Marks error!\\nLine index: {lesson_index}\\n{student_marks}')"
   ]
  },
  {
   "cell_type": "code",
   "execution_count": null,
   "metadata": {},
   "outputs": [],
   "source": [
    "for row_index, student in enumerate(students):\n",
    "    student_id = student[\"id\"]\n",
    "    student_name = student[\"name\"]\n",
    "    student_marks_to_put = marks[row_index]\n",
    "    \n",
    "    print(student_name)\n",
    "    print(student_id)\n",
    "    \n",
    "    for lesson_index, mark_to_put in enumerate(student_marks_to_put):\n",
    "        print(columns[lesson_index]['title'])\n",
    "        \n",
    "        lesson_id = columns[lesson_index]['value']\n",
    "        mark_current = get_mark(student, lesson_id)\n",
    "        \n",
    "        if mark_to_put == \" \":\n",
    "            mark_to_put = \"\"\n",
    "        if mark_to_put == \"y\":\n",
    "            mark_to_put = \"н\"\n",
    "        if mark_current == \"\\u041d\":\n",
    "            mark_current = \"н\"\n",
    "        \n",
    "        if mark_current != mark_to_put:\n",
    "            put_mark(lesson_id, student_id, mark_to_put)\n",
    "        \n",
    "    print()\n",
    "    "
   ]
  },
  {
   "cell_type": "code",
   "execution_count": null,
   "metadata": {},
   "outputs": [],
   "source": []
  }
 ],
 "metadata": {
  "interpreter": {
   "hash": "7b7c7b2245f84aa233e35c86f483dabad4d751346c1b04aaf192d0cd0bfc0ef9"
  },
  "kernelspec": {
   "display_name": "Python 3.8.3 ('base')",
   "language": "python",
   "name": "python3"
  },
  "language_info": {
   "codemirror_mode": {
    "name": "ipython",
    "version": 3
   },
   "file_extension": ".py",
   "mimetype": "text/x-python",
   "name": "python",
   "nbconvert_exporter": "python",
   "pygments_lexer": "ipython3",
   "version": "3.8.3"
  },
  "orig_nbformat": 4
 },
 "nbformat": 4,
 "nbformat_minor": 2
}
