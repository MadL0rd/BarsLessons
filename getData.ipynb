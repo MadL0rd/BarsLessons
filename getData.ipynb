{
 "cells": [
  {
   "cell_type": "code",
   "execution_count": 7,
   "metadata": {},
   "outputs": [],
   "source": [
    "import os\n",
    "import json"
   ]
  },
  {
   "cell_type": "code",
   "execution_count": 24,
   "metadata": {},
   "outputs": [],
   "source": [
    "date_from = \"2021-12-13\"\n",
    "date_to = \"2022-02-28\"\n",
    "cookie = \"Cookie: NodeID=node1; _ym_uid=1640846722706201828; _ym_d=1640846722; sessionid=jz1lesbf5jl5rzpaqmu12fdhi5ecbw5y\""
   ]
  },
  {
   "cell_type": "markdown",
   "metadata": {},
   "source": [
    "# Rows"
   ]
  },
  {
   "cell_type": "code",
   "execution_count": 26,
   "metadata": {},
   "outputs": [],
   "source": [
    "reqest_curl_rows = \"\"\"\n",
    "curl 'https://sh-open.ris61edu.ru/actions/web_edu.core.fgos.register.tabs.main.actions.RegisterPack/registerrowsaction' \\\n",
    "  -H 'Connection: keep-alive' \\\n",
    "  -H 'sec-ch-ua: \"Chromium\";v=\"96\", \"Opera GX\";v=\"82\", \";Not A Brand\";v=\"99\"' \\\n",
    "  -H 'Accept: application/json, text/plain, */*' \\\n",
    "  -H 'Content-Type: multipart/form-data; boundary=----WebKitFormBoundary6UPTavbwldHBnDUD' \\\n",
    "  -H 'sec-ch-ua-mobile: ?0' \\\n",
    "  -H 'User-Agent: Mozilla/5.0 (Macintosh; Intel Mac OS X 10_15_7) AppleWebKit/537.36 (KHTML, like Gecko) Chrome/96.0.4664.110 Safari/537.36 OPR/82.0.4227.50' \\\n",
    "  -H 'sec-ch-ua-platform: \"macOS\"' \\\n",
    "  -H 'Origin: https://sh-open.ris61edu.ru' \\\n",
    "  -H 'Sec-Fetch-Site: same-origin' \\\n",
    "  -H 'Sec-Fetch-Mode: cors' \\\n",
    "  -H 'Sec-Fetch-Dest: empty' \\\n",
    "  -H 'Referer: https://sh-open.ris61edu.ru/desk' \\\n",
    "  -H 'Accept-Language: ru-RU,ru;q=0.9,en-US;q=0.8,en;q=0.7' \\\n",
    "  -H 'Cookie: NodeID=node1; _ym_uid=1640846722706201828; _ym_d=1640846722; sessionid=jz1lesbf5jl5rzpaqmu12fdhi5ecbw5y' \\\n",
    "  --data-raw $'------WebKitFormBoundary6UPTavbwldHBnDUD\\r\\nContent-Disposition: form-data; name=\"web_edu.core.fgos.register.tabs.actions.RegisterGroupSelectPack_id\"\\r\\n\\r\\n1144437\\r\\n------WebKitFormBoundary6UPTavbwldHBnDUD\\r\\nContent-Disposition: form-data; name=\"xaction\"\\r\\n\\r\\nread\\r\\n------WebKitFormBoundary6UPTavbwldHBnDUD\\r\\nContent-Disposition: form-data; name=\"date_from\"\\r\\n\\r\\n2021-12-13\\r\\n------WebKitFormBoundary6UPTavbwldHBnDUD\\r\\nContent-Disposition: form-data; name=\"date_to\"\\r\\n\\r\\n2022-02-28\\r\\n------WebKitFormBoundary6UPTavbwldHBnDUD\\r\\nContent-Disposition: form-data; name=\"grid_id\"\\r\\n\\r\\n0\\r\\n------WebKitFormBoundary6UPTavbwldHBnDUD--\\r\\n' \\\n",
    "  --compressed\n",
    "\"\"\"\n",
    "reqest_curl_rows = reqest_curl_rows.replace(\"2021-12-13\", date_from)\n",
    "reqest_curl_rows = reqest_curl_rows.replace(\"2022-02-28\", date_to)\n",
    "reqest_curl_rows = reqest_curl_rows.replace(\"Cookie: NodeID=node1; _ym_uid=1640846722706201828; _ym_d=1640846722; sessionid=jz1lesbf5jl5rzpaqmu12fdhi5ecbw5y\", cookie)"
   ]
  },
  {
   "cell_type": "code",
   "execution_count": 29,
   "metadata": {},
   "outputs": [],
   "source": [
    "result_rows = os.popen(reqest_curl_rows).read()\n",
    "# print(result)"
   ]
  },
  {
   "cell_type": "code",
   "execution_count": 31,
   "metadata": {},
   "outputs": [],
   "source": [
    "data_rows = json.loads(result_rows)\n",
    "with open(\"rows.json\", \"w\") as write_file:\n",
    "    json.dump(data_rows, write_file)"
   ]
  },
  {
   "cell_type": "markdown",
   "metadata": {},
   "source": [
    "# Columns"
   ]
  },
  {
   "cell_type": "code",
   "execution_count": 33,
   "metadata": {},
   "outputs": [],
   "source": [
    "reqest_curl_columns = \"\"\"\n",
    "curl 'https://sh-open.ris61edu.ru/actions/web_edu.core.fgos.register.tabs.main.actions.RegisterPack/registercolumnsaction' \\\n",
    "  -H 'Connection: keep-alive' \\\n",
    "  -H 'sec-ch-ua: \"Chromium\";v=\"96\", \"Opera GX\";v=\"82\", \";Not A Brand\";v=\"99\"' \\\n",
    "  -H 'Accept: application/json, text/plain, */*' \\\n",
    "  -H 'Content-Type: multipart/form-data; boundary=----WebKitFormBoundaryt4FQR0IPs8NrmFyf' \\\n",
    "  -H 'sec-ch-ua-mobile: ?0' \\\n",
    "  -H 'User-Agent: Mozilla/5.0 (Macintosh; Intel Mac OS X 10_15_7) AppleWebKit/537.36 (KHTML, like Gecko) Chrome/96.0.4664.110 Safari/537.36 OPR/82.0.4227.50' \\\n",
    "  -H 'sec-ch-ua-platform: \"macOS\"' \\\n",
    "  -H 'Origin: https://sh-open.ris61edu.ru' \\\n",
    "  -H 'Sec-Fetch-Site: same-origin' \\\n",
    "  -H 'Sec-Fetch-Mode: cors' \\\n",
    "  -H 'Sec-Fetch-Dest: empty' \\\n",
    "  -H 'Referer: https://sh-open.ris61edu.ru/desk' \\\n",
    "  -H 'Accept-Language: ru-RU,ru;q=0.9,en-US;q=0.8,en;q=0.7' \\\n",
    "  -H 'Cookie: NodeID=node1; _ym_uid=1640846722706201828; _ym_d=1640846722; sessionid=jz1lesbf5jl5rzpaqmu12fdhi5ecbw5y' \\\n",
    "  --data-raw $'------WebKitFormBoundaryt4FQR0IPs8NrmFyf\\r\\nContent-Disposition: form-data; name=\"web_edu.core.fgos.register.tabs.actions.RegisterGroupSelectPack_id\"\\r\\n\\r\\n1144437\\r\\n------WebKitFormBoundaryt4FQR0IPs8NrmFyf\\r\\nContent-Disposition: form-data; name=\"date_from\"\\r\\n\\r\\n2021-12-13\\r\\n------WebKitFormBoundaryt4FQR0IPs8NrmFyf\\r\\nContent-Disposition: form-data; name=\"date_to\"\\r\\n\\r\\n2022-02-28\\r\\n------WebKitFormBoundaryt4FQR0IPs8NrmFyf--\\r\\n' \\\n",
    "  --compressed\n",
    "\"\"\"\n",
    "reqest_curl_columns = reqest_curl_columns.replace(\"2021-12-13\", date_from)\n",
    "reqest_curl_columns = reqest_curl_columns.replace(\"2022-02-28\", date_to)\n",
    "reqest_curl_columns = reqest_curl_columns.replace(\"Cookie: NodeID=node1; _ym_uid=1640846722706201828; _ym_d=1640846722; sessionid=jz1lesbf5jl5rzpaqmu12fdhi5ecbw5y\", cookie)"
   ]
  },
  {
   "cell_type": "code",
   "execution_count": 37,
   "metadata": {},
   "outputs": [],
   "source": [
    "result_columns = os.popen(reqest_curl_columns).read()\n",
    "# print(result_columns)"
   ]
  },
  {
   "cell_type": "code",
   "execution_count": 38,
   "metadata": {},
   "outputs": [],
   "source": [
    "data_columns = json.loads(result_columns)\n",
    "with open(\"lessons.json\", \"w\") as write_file:\n",
    "    json.dump(data_columns, write_file)"
   ]
  },
  {
   "cell_type": "code",
   "execution_count": null,
   "metadata": {},
   "outputs": [],
   "source": []
  }
 ],
 "metadata": {
  "interpreter": {
   "hash": "7b7c7b2245f84aa233e35c86f483dabad4d751346c1b04aaf192d0cd0bfc0ef9"
  },
  "kernelspec": {
   "display_name": "Python 3.8.3 ('base')",
   "language": "python",
   "name": "python3"
  },
  "language_info": {
   "codemirror_mode": {
    "name": "ipython",
    "version": 3
   },
   "file_extension": ".py",
   "mimetype": "text/x-python",
   "name": "python",
   "nbconvert_exporter": "python",
   "pygments_lexer": "ipython3",
   "version": "3.8.3"
  },
  "orig_nbformat": 4
 },
 "nbformat": 4,
 "nbformat_minor": 2
}
